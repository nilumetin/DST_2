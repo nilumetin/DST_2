{
 "cells": [
  {
   "cell_type": "markdown",
   "metadata": {},
   "source": [
    "## Student_Name: Nilufer Metin\n",
    "### Student _ID: 873094058\n",
    "\n",
    "### Instructor: Pooran Negi\n",
    "\n",
    "### Class: Data Science Tools-2"
   ]
  },
  {
   "cell_type": "code",
   "execution_count": 138,
   "metadata": {},
   "outputs": [],
   "source": [
    "import pandas as pd\n",
    "import numpy as np\n",
    "import missingno as msno\n",
    "import seaborn as sn\n",
    "import matplotlib.pyplot as plt\n",
    "from sklearn.model_selection import train_test_split\n",
    "from sklearn.preprocessing import StandardScaler\n",
    "from sklearn.linear_model import LinearRegression\n",
    "from sklearn.metrics import r2_score\n",
    "import statsmodels.formula.api as sm"
   ]
  },
  {
   "cell_type": "code",
   "execution_count": 139,
   "metadata": {},
   "outputs": [],
   "source": [
    "#!pip install missingno"
   ]
  },
  {
   "cell_type": "code",
   "execution_count": 140,
   "metadata": {},
   "outputs": [],
   "source": [
    "data = pd.read_csv(\"2-ThreeCars2017.csv\")"
   ]
  },
  {
   "cell_type": "code",
   "execution_count": 141,
   "metadata": {},
   "outputs": [
    {
     "data": {
      "text/html": [
       "<div>\n",
       "<style scoped>\n",
       "    .dataframe tbody tr th:only-of-type {\n",
       "        vertical-align: middle;\n",
       "    }\n",
       "\n",
       "    .dataframe tbody tr th {\n",
       "        vertical-align: top;\n",
       "    }\n",
       "\n",
       "    .dataframe thead th {\n",
       "        text-align: right;\n",
       "    }\n",
       "</style>\n",
       "<table border=\"1\" class=\"dataframe\">\n",
       "  <thead>\n",
       "    <tr style=\"text-align: right;\">\n",
       "      <th></th>\n",
       "      <th>Unnamed: 0</th>\n",
       "      <th>CarType</th>\n",
       "      <th>Age</th>\n",
       "      <th>Price</th>\n",
       "      <th>Mileage</th>\n",
       "      <th>Mazda6</th>\n",
       "      <th>Accord</th>\n",
       "      <th>Maxima</th>\n",
       "    </tr>\n",
       "  </thead>\n",
       "  <tbody>\n",
       "    <tr>\n",
       "      <th>0</th>\n",
       "      <td>1</td>\n",
       "      <td>Mazda6</td>\n",
       "      <td>3</td>\n",
       "      <td>15.9</td>\n",
       "      <td>17.8</td>\n",
       "      <td>1</td>\n",
       "      <td>0</td>\n",
       "      <td>0</td>\n",
       "    </tr>\n",
       "    <tr>\n",
       "      <th>1</th>\n",
       "      <td>2</td>\n",
       "      <td>Mazda6</td>\n",
       "      <td>2</td>\n",
       "      <td>16.4</td>\n",
       "      <td>19.0</td>\n",
       "      <td>1</td>\n",
       "      <td>0</td>\n",
       "      <td>0</td>\n",
       "    </tr>\n",
       "    <tr>\n",
       "      <th>2</th>\n",
       "      <td>3</td>\n",
       "      <td>Mazda6</td>\n",
       "      <td>1</td>\n",
       "      <td>18.9</td>\n",
       "      <td>20.9</td>\n",
       "      <td>1</td>\n",
       "      <td>0</td>\n",
       "      <td>0</td>\n",
       "    </tr>\n",
       "    <tr>\n",
       "      <th>3</th>\n",
       "      <td>4</td>\n",
       "      <td>Mazda6</td>\n",
       "      <td>2</td>\n",
       "      <td>16.9</td>\n",
       "      <td>24.0</td>\n",
       "      <td>1</td>\n",
       "      <td>0</td>\n",
       "      <td>0</td>\n",
       "    </tr>\n",
       "    <tr>\n",
       "      <th>4</th>\n",
       "      <td>5</td>\n",
       "      <td>Mazda6</td>\n",
       "      <td>2</td>\n",
       "      <td>20.5</td>\n",
       "      <td>24.0</td>\n",
       "      <td>1</td>\n",
       "      <td>0</td>\n",
       "      <td>0</td>\n",
       "    </tr>\n",
       "  </tbody>\n",
       "</table>\n",
       "</div>"
      ],
      "text/plain": [
       "   Unnamed: 0 CarType  Age  Price  Mileage  Mazda6  Accord  Maxima\n",
       "0           1  Mazda6    3   15.9     17.8       1       0       0\n",
       "1           2  Mazda6    2   16.4     19.0       1       0       0\n",
       "2           3  Mazda6    1   18.9     20.9       1       0       0\n",
       "3           4  Mazda6    2   16.9     24.0       1       0       0\n",
       "4           5  Mazda6    2   20.5     24.0       1       0       0"
      ]
     },
     "execution_count": 141,
     "metadata": {},
     "output_type": "execute_result"
    }
   ],
   "source": [
    "data.head()"
   ]
  },
  {
   "cell_type": "code",
   "execution_count": 142,
   "metadata": {},
   "outputs": [],
   "source": [
    "#Drpping the first column where I had indexing. But Pandas also creates indexes so it isn't necessary.\n",
    "data=data.drop(data.columns[0],axis=1)"
   ]
  },
  {
   "cell_type": "code",
   "execution_count": 143,
   "metadata": {},
   "outputs": [
    {
     "data": {
      "text/html": [
       "<div>\n",
       "<style scoped>\n",
       "    .dataframe tbody tr th:only-of-type {\n",
       "        vertical-align: middle;\n",
       "    }\n",
       "\n",
       "    .dataframe tbody tr th {\n",
       "        vertical-align: top;\n",
       "    }\n",
       "\n",
       "    .dataframe thead th {\n",
       "        text-align: right;\n",
       "    }\n",
       "</style>\n",
       "<table border=\"1\" class=\"dataframe\">\n",
       "  <thead>\n",
       "    <tr style=\"text-align: right;\">\n",
       "      <th></th>\n",
       "      <th>CarType</th>\n",
       "      <th>Age</th>\n",
       "      <th>Price</th>\n",
       "      <th>Mileage</th>\n",
       "      <th>Mazda6</th>\n",
       "      <th>Accord</th>\n",
       "      <th>Maxima</th>\n",
       "    </tr>\n",
       "  </thead>\n",
       "  <tbody>\n",
       "    <tr>\n",
       "      <th>0</th>\n",
       "      <td>Mazda6</td>\n",
       "      <td>3</td>\n",
       "      <td>15.9</td>\n",
       "      <td>17.8</td>\n",
       "      <td>1</td>\n",
       "      <td>0</td>\n",
       "      <td>0</td>\n",
       "    </tr>\n",
       "    <tr>\n",
       "      <th>1</th>\n",
       "      <td>Mazda6</td>\n",
       "      <td>2</td>\n",
       "      <td>16.4</td>\n",
       "      <td>19.0</td>\n",
       "      <td>1</td>\n",
       "      <td>0</td>\n",
       "      <td>0</td>\n",
       "    </tr>\n",
       "    <tr>\n",
       "      <th>2</th>\n",
       "      <td>Mazda6</td>\n",
       "      <td>1</td>\n",
       "      <td>18.9</td>\n",
       "      <td>20.9</td>\n",
       "      <td>1</td>\n",
       "      <td>0</td>\n",
       "      <td>0</td>\n",
       "    </tr>\n",
       "    <tr>\n",
       "      <th>3</th>\n",
       "      <td>Mazda6</td>\n",
       "      <td>2</td>\n",
       "      <td>16.9</td>\n",
       "      <td>24.0</td>\n",
       "      <td>1</td>\n",
       "      <td>0</td>\n",
       "      <td>0</td>\n",
       "    </tr>\n",
       "    <tr>\n",
       "      <th>4</th>\n",
       "      <td>Mazda6</td>\n",
       "      <td>2</td>\n",
       "      <td>20.5</td>\n",
       "      <td>24.0</td>\n",
       "      <td>1</td>\n",
       "      <td>0</td>\n",
       "      <td>0</td>\n",
       "    </tr>\n",
       "  </tbody>\n",
       "</table>\n",
       "</div>"
      ],
      "text/plain": [
       "  CarType  Age  Price  Mileage  Mazda6  Accord  Maxima\n",
       "0  Mazda6    3   15.9     17.8       1       0       0\n",
       "1  Mazda6    2   16.4     19.0       1       0       0\n",
       "2  Mazda6    1   18.9     20.9       1       0       0\n",
       "3  Mazda6    2   16.9     24.0       1       0       0\n",
       "4  Mazda6    2   20.5     24.0       1       0       0"
      ]
     },
     "execution_count": 143,
     "metadata": {},
     "output_type": "execute_result"
    }
   ],
   "source": [
    "data.head()"
   ]
  },
  {
   "cell_type": "code",
   "execution_count": 144,
   "metadata": {},
   "outputs": [
    {
     "data": {
      "text/plain": [
       "<matplotlib.axes._subplots.AxesSubplot at 0x12c736e80>"
      ]
     },
     "execution_count": 144,
     "metadata": {},
     "output_type": "execute_result"
    },
    {
     "data": {
      "image/png": "[encoded data removed]",
      "text/plain": [
       "<Figure size 720x216 with 2 Axes>"
      ]
     },
     "metadata": {
      "needs_background": "light"
     },
     "output_type": "display_data"
    }
   ],
   "source": [
    "#Checking if there is any missing values. Below shows that there isn't. \n",
    "#If there was we would see some white strips along the attributes\n",
    "msno.matrix(data,figsize=(10,3))"
   ]
  },
  {
   "cell_type": "code",
   "execution_count": 145,
   "metadata": {},
   "outputs": [
    {
     "data": {
      "text/plain": [
       "[Text(0, 0.5, 'Price'),\n",
       " Text(0.5, 0, 'Age'),\n",
       " Text(0.5, 1.0, 'Price Distribution based on the age of the Car')]"
      ]
     },
     "execution_count": 145,
     "metadata": {},
     "output_type": "execute_result"
    },
    {
     "data": {
      "image/png": "[encoded data removed]",
      "text/plain": [
       "<Figure size 720x1440 with 4 Axes>"
      ]
     },
     "metadata": {
      "needs_background": "light"
     },
     "output_type": "display_data"
    }
   ],
   "source": [
    "#Plotting and visualizeing the data to see what the distrubitions are and how the data integrate which each other.\n",
    "\n",
    "#Looks like Price attribute is well distributed. Data doesn't really have critical outliers.\n",
    "\n",
    "#But data needs to be scaled because each attribute is on different scale.\n",
    "\n",
    "fig, axes = plt.subplots(nrows =4, ncols= 1)\n",
    "fig.set_size_inches(10,20)\n",
    "sn.boxplot(data=data, y='Price', orient=\"v\", ax=axes[0])\n",
    "sn.boxplot(data=data, orient=\"v\", ax=axes[1])\n",
    "sn.boxplot(data=data, y='Price', x=\"CarType\", orient=\"v\", ax=axes[2])\n",
    "sn.boxplot(data=data, y='Price', x= \"Age\", orient=\"v\", ax=axes[3])\n",
    "\n",
    "axes[0].set(ylabel='Price', title='Price Distribution')\n",
    "axes[1].set(title='All Data Distribution')\n",
    "axes[2].set(ylabel='Price', xlabel='Cartype', title='Price Distribution based on CarType')\n",
    "axes[3].set(ylabel='Price', xlabel = 'Age', title='Price Distribution based on the age of the Car')\n",
    "\n",
    "    "
   ]
  },
  {
   "cell_type": "code",
   "execution_count": 146,
   "metadata": {},
   "outputs": [
    {
     "data": {
      "text/plain": [
       "<matplotlib.axes._subplots.AxesSubplot at 0x12d0a8048>"
      ]
     },
     "execution_count": 146,
     "metadata": {},
     "output_type": "execute_result"
    },
    {
     "data": {
      "image/png": "[encoded data removed]",
      "text/plain": [
       "<Figure size 432x288 with 2 Axes>"
      ]
     },
     "metadata": {
      "needs_background": "light"
     },
     "output_type": "display_data"
    }
   ],
   "source": [
    "#Correlation matrix and heat map. \n",
    "#It looks like data is pretty well but Mileage and Age of the car is highly dependent on each other. \n",
    "\n",
    "corrMatt=data.corr()\n",
    "mask = np.array(corrMatt)\n",
    "mask[np.tril_indices_from(mask)]=False\n",
    "fig.ax=plt.subplots()\n",
    "fig.set_size_inches(20,10)\n",
    "sn.heatmap(corrMatt, mask=mask, vmax=0.8, square=True, annot=True)"
   ]
  },
  {
   "cell_type": "code",
   "execution_count": 147,
   "metadata": {},
   "outputs": [],
   "source": [
    "#Changing the order of the attributes\n",
    "\n",
    "data = data[['CarType', 'Age', 'Mileage', 'Mazda6', 'Accord', 'Maxima', 'Price']]"
   ]
  },
  {
   "cell_type": "code",
   "execution_count": 148,
   "metadata": {},
   "outputs": [
    {
     "data": {
      "text/html": [
       "<div>\n",
       "<style scoped>\n",
       "    .dataframe tbody tr th:only-of-type {\n",
       "        vertical-align: middle;\n",
       "    }\n",
       "\n",
       "    .dataframe tbody tr th {\n",
       "        vertical-align: top;\n",
       "    }\n",
       "\n",
       "    .dataframe thead th {\n",
       "        text-align: right;\n",
       "    }\n",
       "</style>\n",
       "<table border=\"1\" class=\"dataframe\">\n",
       "  <thead>\n",
       "    <tr style=\"text-align: right;\">\n",
       "      <th></th>\n",
       "      <th>CarType</th>\n",
       "      <th>Age</th>\n",
       "      <th>Mileage</th>\n",
       "      <th>Mazda6</th>\n",
       "      <th>Accord</th>\n",
       "      <th>Maxima</th>\n",
       "      <th>Price</th>\n",
       "    </tr>\n",
       "  </thead>\n",
       "  <tbody>\n",
       "    <tr>\n",
       "      <th>0</th>\n",
       "      <td>Mazda6</td>\n",
       "      <td>3</td>\n",
       "      <td>17.8</td>\n",
       "      <td>1</td>\n",
       "      <td>0</td>\n",
       "      <td>0</td>\n",
       "      <td>15.9</td>\n",
       "    </tr>\n",
       "    <tr>\n",
       "      <th>1</th>\n",
       "      <td>Mazda6</td>\n",
       "      <td>2</td>\n",
       "      <td>19.0</td>\n",
       "      <td>1</td>\n",
       "      <td>0</td>\n",
       "      <td>0</td>\n",
       "      <td>16.4</td>\n",
       "    </tr>\n",
       "    <tr>\n",
       "      <th>2</th>\n",
       "      <td>Mazda6</td>\n",
       "      <td>1</td>\n",
       "      <td>20.9</td>\n",
       "      <td>1</td>\n",
       "      <td>0</td>\n",
       "      <td>0</td>\n",
       "      <td>18.9</td>\n",
       "    </tr>\n",
       "    <tr>\n",
       "      <th>3</th>\n",
       "      <td>Mazda6</td>\n",
       "      <td>2</td>\n",
       "      <td>24.0</td>\n",
       "      <td>1</td>\n",
       "      <td>0</td>\n",
       "      <td>0</td>\n",
       "      <td>16.9</td>\n",
       "    </tr>\n",
       "    <tr>\n",
       "      <th>4</th>\n",
       "      <td>Mazda6</td>\n",
       "      <td>2</td>\n",
       "      <td>24.0</td>\n",
       "      <td>1</td>\n",
       "      <td>0</td>\n",
       "      <td>0</td>\n",
       "      <td>20.5</td>\n",
       "    </tr>\n",
       "  </tbody>\n",
       "</table>\n",
       "</div>"
      ],
      "text/plain": [
       "  CarType  Age  Mileage  Mazda6  Accord  Maxima  Price\n",
       "0  Mazda6    3     17.8       1       0       0   15.9\n",
       "1  Mazda6    2     19.0       1       0       0   16.4\n",
       "2  Mazda6    1     20.9       1       0       0   18.9\n",
       "3  Mazda6    2     24.0       1       0       0   16.9\n",
       "4  Mazda6    2     24.0       1       0       0   20.5"
      ]
     },
     "execution_count": 148,
     "metadata": {},
     "output_type": "execute_result"
    }
   ],
   "source": [
    "data.head()"
   ]
  },
  {
   "cell_type": "markdown",
   "metadata": {},
   "source": [
    "Encoding Categorical Data and Replacing Categorical Values"
   ]
  },
  {
   "cell_type": "code",
   "execution_count": 149,
   "metadata": {},
   "outputs": [
    {
     "name": "stdout",
     "output_type": "stream",
     "text": [
      "Maxima    30\n",
      "Accord    30\n",
      "Mazda6    30\n",
      "Name: CarType, dtype: int64\n"
     ]
    }
   ],
   "source": [
    "print(data['CarType'].value_counts())"
   ]
  },
  {
   "cell_type": "code",
   "execution_count": 150,
   "metadata": {},
   "outputs": [],
   "source": [
    "#Mapping the categorical values of Cartype to integers.\n",
    "\n",
    "replace_map = {'CarType': {'Maxima': 1, 'Accord': 2, 'Mazda6': 3}}"
   ]
  },
  {
   "cell_type": "code",
   "execution_count": 151,
   "metadata": {},
   "outputs": [],
   "source": [
    "data.replace(replace_map, inplace=True)"
   ]
  },
  {
   "cell_type": "code",
   "execution_count": 152,
   "metadata": {},
   "outputs": [
    {
     "data": {
      "text/html": [
       "<div>\n",
       "<style scoped>\n",
       "    .dataframe tbody tr th:only-of-type {\n",
       "        vertical-align: middle;\n",
       "    }\n",
       "\n",
       "    .dataframe tbody tr th {\n",
       "        vertical-align: top;\n",
       "    }\n",
       "\n",
       "    .dataframe thead th {\n",
       "        text-align: right;\n",
       "    }\n",
       "</style>\n",
       "<table border=\"1\" class=\"dataframe\">\n",
       "  <thead>\n",
       "    <tr style=\"text-align: right;\">\n",
       "      <th></th>\n",
       "      <th>CarType</th>\n",
       "      <th>Age</th>\n",
       "      <th>Mileage</th>\n",
       "      <th>Mazda6</th>\n",
       "      <th>Accord</th>\n",
       "      <th>Maxima</th>\n",
       "      <th>Price</th>\n",
       "    </tr>\n",
       "  </thead>\n",
       "  <tbody>\n",
       "    <tr>\n",
       "      <th>0</th>\n",
       "      <td>3</td>\n",
       "      <td>3</td>\n",
       "      <td>17.8</td>\n",
       "      <td>1</td>\n",
       "      <td>0</td>\n",
       "      <td>0</td>\n",
       "      <td>15.9</td>\n",
       "    </tr>\n",
       "    <tr>\n",
       "      <th>1</th>\n",
       "      <td>3</td>\n",
       "      <td>2</td>\n",
       "      <td>19.0</td>\n",
       "      <td>1</td>\n",
       "      <td>0</td>\n",
       "      <td>0</td>\n",
       "      <td>16.4</td>\n",
       "    </tr>\n",
       "    <tr>\n",
       "      <th>2</th>\n",
       "      <td>3</td>\n",
       "      <td>1</td>\n",
       "      <td>20.9</td>\n",
       "      <td>1</td>\n",
       "      <td>0</td>\n",
       "      <td>0</td>\n",
       "      <td>18.9</td>\n",
       "    </tr>\n",
       "    <tr>\n",
       "      <th>3</th>\n",
       "      <td>3</td>\n",
       "      <td>2</td>\n",
       "      <td>24.0</td>\n",
       "      <td>1</td>\n",
       "      <td>0</td>\n",
       "      <td>0</td>\n",
       "      <td>16.9</td>\n",
       "    </tr>\n",
       "    <tr>\n",
       "      <th>4</th>\n",
       "      <td>3</td>\n",
       "      <td>2</td>\n",
       "      <td>24.0</td>\n",
       "      <td>1</td>\n",
       "      <td>0</td>\n",
       "      <td>0</td>\n",
       "      <td>20.5</td>\n",
       "    </tr>\n",
       "  </tbody>\n",
       "</table>\n",
       "</div>"
      ],
      "text/plain": [
       "   CarType  Age  Mileage  Mazda6  Accord  Maxima  Price\n",
       "0        3    3     17.8       1       0       0   15.9\n",
       "1        3    2     19.0       1       0       0   16.4\n",
       "2        3    1     20.9       1       0       0   18.9\n",
       "3        3    2     24.0       1       0       0   16.9\n",
       "4        3    2     24.0       1       0       0   20.5"
      ]
     },
     "execution_count": 152,
     "metadata": {},
     "output_type": "execute_result"
    }
   ],
   "source": [
    "data.head()"
   ]
  },
  {
   "cell_type": "code",
   "execution_count": 153,
   "metadata": {},
   "outputs": [],
   "source": [
    "#Splitting data into two groups where the first group is combination of the independent variables(X) and\n",
    "# and another group (y) where it is my dependent value.\n",
    "\n",
    "X=data.iloc[:, :-1]\n",
    "y=data.iloc[:, -1]"
   ]
  },
  {
   "cell_type": "code",
   "execution_count": 154,
   "metadata": {},
   "outputs": [],
   "source": [
    "#Adding extra column for to meet the criteria of Linear Regression for b0 in y= b0 +b1x1 +b2x2+...\n",
    "X = np.append(arr=np.ones((X.shape[0], 1)), values=X, axis=1)"
   ]
  },
  {
   "cell_type": "code",
   "execution_count": 155,
   "metadata": {},
   "outputs": [
    {
     "data": {
      "text/html": [
       "<div>\n",
       "<style scoped>\n",
       "    .dataframe tbody tr th:only-of-type {\n",
       "        vertical-align: middle;\n",
       "    }\n",
       "\n",
       "    .dataframe tbody tr th {\n",
       "        vertical-align: top;\n",
       "    }\n",
       "\n",
       "    .dataframe thead th {\n",
       "        text-align: right;\n",
       "    }\n",
       "</style>\n",
       "<table border=\"1\" class=\"dataframe\">\n",
       "  <thead>\n",
       "    <tr style=\"text-align: right;\">\n",
       "      <th></th>\n",
       "      <th>CarType</th>\n",
       "      <th>Age</th>\n",
       "      <th>Mileage</th>\n",
       "      <th>Mazda6</th>\n",
       "      <th>Accord</th>\n",
       "      <th>Maxima</th>\n",
       "      <th>Price</th>\n",
       "    </tr>\n",
       "  </thead>\n",
       "  <tbody>\n",
       "    <tr>\n",
       "      <th>0</th>\n",
       "      <td>3</td>\n",
       "      <td>3</td>\n",
       "      <td>17.8</td>\n",
       "      <td>1</td>\n",
       "      <td>0</td>\n",
       "      <td>0</td>\n",
       "      <td>15.9</td>\n",
       "    </tr>\n",
       "    <tr>\n",
       "      <th>1</th>\n",
       "      <td>3</td>\n",
       "      <td>2</td>\n",
       "      <td>19.0</td>\n",
       "      <td>1</td>\n",
       "      <td>0</td>\n",
       "      <td>0</td>\n",
       "      <td>16.4</td>\n",
       "    </tr>\n",
       "    <tr>\n",
       "      <th>2</th>\n",
       "      <td>3</td>\n",
       "      <td>1</td>\n",
       "      <td>20.9</td>\n",
       "      <td>1</td>\n",
       "      <td>0</td>\n",
       "      <td>0</td>\n",
       "      <td>18.9</td>\n",
       "    </tr>\n",
       "    <tr>\n",
       "      <th>3</th>\n",
       "      <td>3</td>\n",
       "      <td>2</td>\n",
       "      <td>24.0</td>\n",
       "      <td>1</td>\n",
       "      <td>0</td>\n",
       "      <td>0</td>\n",
       "      <td>16.9</td>\n",
       "    </tr>\n",
       "    <tr>\n",
       "      <th>4</th>\n",
       "      <td>3</td>\n",
       "      <td>2</td>\n",
       "      <td>24.0</td>\n",
       "      <td>1</td>\n",
       "      <td>0</td>\n",
       "      <td>0</td>\n",
       "      <td>20.5</td>\n",
       "    </tr>\n",
       "  </tbody>\n",
       "</table>\n",
       "</div>"
      ],
      "text/plain": [
       "   CarType  Age  Mileage  Mazda6  Accord  Maxima  Price\n",
       "0        3    3     17.8       1       0       0   15.9\n",
       "1        3    2     19.0       1       0       0   16.4\n",
       "2        3    1     20.9       1       0       0   18.9\n",
       "3        3    2     24.0       1       0       0   16.9\n",
       "4        3    2     24.0       1       0       0   20.5"
      ]
     },
     "execution_count": 155,
     "metadata": {},
     "output_type": "execute_result"
    }
   ],
   "source": [
    "data.head()"
   ]
  },
  {
   "cell_type": "code",
   "execution_count": 156,
   "metadata": {},
   "outputs": [],
   "source": [
    "# !pip install tabulate"
   ]
  },
  {
   "cell_type": "code",
   "execution_count": 157,
   "metadata": {},
   "outputs": [],
   "source": [
    "# from tabulate import tabulate"
   ]
  },
  {
   "cell_type": "code",
   "execution_count": 158,
   "metadata": {},
   "outputs": [],
   "source": [
    "# table = tabulate(X)\n",
    "# table"
   ]
  },
  {
   "cell_type": "code",
   "execution_count": 159,
   "metadata": {},
   "outputs": [
    {
     "data": {
      "text/plain": [
       "array([[  1. ,   3. ,   3. ,  17.8,   1. ,   0. ,   0. ],\n",
       "       [  1. ,   3. ,   2. ,  19. ,   1. ,   0. ,   0. ],\n",
       "       [  1. ,   3. ,   1. ,  20.9,   1. ,   0. ,   0. ],\n",
       "       [  1. ,   3. ,   2. ,  24. ,   1. ,   0. ,   0. ],\n",
       "       [  1. ,   3. ,   2. ,  24. ,   1. ,   0. ,   0. ],\n",
       "       [  1. ,   3. ,   1. ,  24.2,   1. ,   0. ,   0. ],\n",
       "       [  1. ,   3. ,   2. ,  30.1,   1. ,   0. ,   0. ],\n",
       "       [  1. ,   3. ,   3. ,  32. ,   1. ,   0. ,   0. ],\n",
       "       [  1. ,   3. ,   3. ,  34.8,   1. ,   0. ,   0. ],\n",
       "       [  1. ,   3. ,   4. ,  35.7,   1. ,   0. ,   0. ],\n",
       "       [  1. ,   3. ,   4. ,  49.5,   1. ,   0. ,   0. ],\n",
       "       [  1. ,   3. ,   3. ,  50.9,   1. ,   0. ,   0. ],\n",
       "       [  1. ,   3. ,   3. ,  51.1,   1. ,   0. ,   0. ],\n",
       "       [  1. ,   3. ,   3. ,  51.7,   1. ,   0. ,   0. ],\n",
       "       [  1. ,   3. ,   3. ,  53.6,   1. ,   0. ,   0. ],\n",
       "       [  1. ,   3. ,   1. ,  55.5,   1. ,   0. ,   0. ],\n",
       "       [  1. ,   3. ,   7. ,  66.2,   1. ,   0. ,   0. ],\n",
       "       [  1. ,   3. ,   8. ,  70.2,   1. ,   0. ,   0. ],\n",
       "       [  1. ,   3. ,   6. ,  70.5,   1. ,   0. ,   0. ],\n",
       "       [  1. ,   3. ,   7. ,  71.5,   1. ,   0. ,   0. ],\n",
       "       [  1. ,   3. ,  10. ,  76.7,   1. ,   0. ,   0. ],\n",
       "       [  1. ,   3. ,  13. ,  90.7,   1. ,   0. ,   0. ],\n",
       "       [  1. ,   3. ,  14. , 105.8,   1. ,   0. ,   0. ],\n",
       "       [  1. ,   3. ,   8. , 108.1,   1. ,   0. ,   0. ],\n",
       "       [  1. ,   3. ,  13. , 109.1,   1. ,   0. ,   0. ],\n",
       "       [  1. ,   3. ,  10. , 124.8,   1. ,   0. ,   0. ],\n",
       "       [  1. ,   3. ,  13. , 128.5,   1. ,   0. ,   0. ],\n",
       "       [  1. ,   3. ,  14. , 131. ,   1. ,   0. ,   0. ],\n",
       "       [  1. ,   3. ,  10. , 133.8,   1. ,   0. ,   0. ],\n",
       "       [  1. ,   3. ,  13. , 137.2,   1. ,   0. ,   0. ],\n",
       "       [  1. ,   2. ,   7. ,  74.9,   0. ,   1. ,   0. ],\n",
       "       [  1. ,   2. ,   4. ,  53. ,   0. ,   1. ,   0. ],\n",
       "       [  1. ,   2. ,   4. ,  79.1,   0. ,   1. ,   0. ],\n",
       "       [  1. ,   2. ,   7. ,  50.1,   0. ,   1. ,   0. ],\n",
       "       [  1. ,   2. ,   9. ,  62. ,   0. ,   1. ,   0. ],\n",
       "       [  1. ,   2. ,   1. ,   4.8,   0. ,   1. ,   0. ],\n",
       "       [  1. ,   2. ,  18. ,  89.4,   0. ,   1. ,   0. ],\n",
       "       [  1. ,   2. ,   2. ,  20.8,   0. ,   1. ,   0. ],\n",
       "       [  1. ,   2. ,   2. ,   4.8,   0. ,   1. ,   0. ],\n",
       "       [  1. ,   2. ,   5. ,  48.3,   0. ,   1. ,   0. ],\n",
       "       [  1. ,   2. ,   2. ,  46.5,   0. ,   1. ,   0. ],\n",
       "       [  1. ,   2. ,   2. ,   3. ,   0. ,   1. ,   0. ],\n",
       "       [  1. ,   2. ,   6. ,  64.1,   0. ,   1. ,   0. ],\n",
       "       [  1. ,   2. ,   3. ,   8.3,   0. ,   1. ,   0. ],\n",
       "       [  1. ,   2. ,   3. ,  27.1,   0. ,   1. ,   0. ],\n",
       "       [  1. ,   2. ,   2. ,  20.3,   0. ,   1. ,   0. ],\n",
       "       [  1. ,   2. ,   4. ,  68.4,   0. ,   1. ,   0. ],\n",
       "       [  1. ,   2. ,  14. ,  86.9,   0. ,   1. ,   0. ],\n",
       "       [  1. ,   2. ,   9. ,  64.5,   0. ,   1. ,   0. ],\n",
       "       [  1. ,   2. ,  10. , 150.5,   0. ,   1. ,   0. ],\n",
       "       [  1. ,   2. ,   5. ,  65.2,   0. ,   1. ,   0. ],\n",
       "       [  1. ,   2. ,   3. ,  56.1,   0. ,   1. ,   0. ],\n",
       "       [  1. ,   2. ,  12. , 139.4,   0. ,   1. ,   0. ],\n",
       "       [  1. ,   2. ,   3. ,  13.9,   0. ,   1. ,   0. ],\n",
       "       [  1. ,   2. ,   4. ,  18.6,   0. ,   1. ,   0. ],\n",
       "       [  1. ,   2. ,   2. ,  15.7,   0. ,   1. ,   0. ],\n",
       "       [  1. ,   2. ,   3. ,  38.5,   0. ,   1. ,   0. ],\n",
       "       [  1. ,   2. ,   3. ,  19.8,   0. ,   1. ,   0. ],\n",
       "       [  1. ,   2. ,  11. , 119.3,   0. ,   1. ,   0. ],\n",
       "       [  1. ,   2. ,  13. , 122.5,   0. ,   1. ,   0. ],\n",
       "       [  1. ,   1. ,   0. ,  15.2,   0. ,   0. ,   1. ],\n",
       "       [  1. ,   1. ,   3. ,  24.1,   0. ,   0. ,   1. ],\n",
       "       [  1. ,   1. ,   4. ,  30. ,   0. ,   0. ,   1. ],\n",
       "       [  1. ,   1. ,   4. ,  34.4,   0. ,   0. ,   1. ],\n",
       "       [  1. ,   1. ,   3. ,  35.1,   0. ,   0. ,   1. ],\n",
       "       [  1. ,   1. ,   4. ,  35.3,   0. ,   0. ,   1. ],\n",
       "       [  1. ,   1. ,   4. ,  36.9,   0. ,   0. ,   1. ],\n",
       "       [  1. ,   1. ,   1. ,  37.5,   0. ,   0. ,   1. ],\n",
       "       [  1. ,   1. ,   3. ,  37.7,   0. ,   0. ,   1. ],\n",
       "       [  1. ,   1. ,   1. ,  38.6,   0. ,   0. ,   1. ],\n",
       "       [  1. ,   1. ,   1. ,  42.1,   0. ,   0. ,   1. ],\n",
       "       [  1. ,   1. ,   4. ,  42.3,   0. ,   0. ,   1. ],\n",
       "       [  1. ,   1. ,   3. ,  43.3,   0. ,   0. ,   1. ],\n",
       "       [  1. ,   1. ,   7. ,  44.9,   0. ,   0. ,   1. ],\n",
       "       [  1. ,   1. ,   4. ,  46.6,   0. ,   0. ,   1. ],\n",
       "       [  1. ,   1. ,   8. ,  50.3,   0. ,   0. ,   1. ],\n",
       "       [  1. ,   1. ,   3. ,  54.6,   0. ,   0. ,   1. ],\n",
       "       [  1. ,   1. ,   5. ,  58.5,   0. ,   0. ,   1. ],\n",
       "       [  1. ,   1. ,   3. ,  59.4,   0. ,   0. ,   1. ],\n",
       "       [  1. ,   1. ,   3. ,  57.4,   0. ,   0. ,   1. ],\n",
       "       [  1. ,   1. ,   5. ,  61.1,   0. ,   0. ,   1. ],\n",
       "       [  1. ,   1. ,   7. ,  65.8,   0. ,   0. ,   1. ],\n",
       "       [  1. ,   1. ,   4. ,  68.8,   0. ,   0. ,   1. ],\n",
       "       [  1. ,   1. ,   4. ,  69.1,   0. ,   0. ,   1. ],\n",
       "       [  1. ,   1. ,   6. ,  87.7,   0. ,   0. ,   1. ],\n",
       "       [  1. ,   1. ,  10. ,  93.3,   0. ,   0. ,   1. ],\n",
       "       [  1. ,   1. ,   5. ,  93.7,   0. ,   0. ,   1. ],\n",
       "       [  1. ,   1. ,   7. ,  98.3,   0. ,   0. ,   1. ],\n",
       "       [  1. ,   1. ,  10. , 135.7,   0. ,   0. ,   1. ],\n",
       "       [  1. ,   1. ,  10. , 122.9,   0. ,   0. ,   1. ]])"
      ]
     },
     "execution_count": 159,
     "metadata": {},
     "output_type": "execute_result"
    }
   ],
   "source": [
    "X"
   ]
  },
  {
   "cell_type": "code",
   "execution_count": 160,
   "metadata": {},
   "outputs": [
    {
     "data": {
      "text/plain": [
       "0     15.9\n",
       "1     16.4\n",
       "2     18.9\n",
       "3     16.9\n",
       "4     20.5\n",
       "5     19.0\n",
       "6     17.5\n",
       "7     18.0\n",
       "8     13.6\n",
       "9     12.0\n",
       "10    10.0\n",
       "11    17.9\n",
       "12    17.8\n",
       "13    16.0\n",
       "14    14.6\n",
       "15    14.0\n",
       "16     8.0\n",
       "17     8.5\n",
       "18     9.0\n",
       "19     7.8\n",
       "20     6.8\n",
       "21     5.0\n",
       "22     4.5\n",
       "23     5.6\n",
       "24     2.0\n",
       "25     5.8\n",
       "26     5.2\n",
       "27     3.0\n",
       "28     9.9\n",
       "29     5.0\n",
       "      ... \n",
       "60    27.0\n",
       "61    16.5\n",
       "62    15.3\n",
       "63    15.7\n",
       "64    19.9\n",
       "65    15.5\n",
       "66    21.0\n",
       "67    21.0\n",
       "68    19.9\n",
       "69    20.0\n",
       "70    20.0\n",
       "71    15.0\n",
       "72    17.3\n",
       "73    17.0\n",
       "74    17.5\n",
       "75    12.5\n",
       "76    15.2\n",
       "77    13.8\n",
       "78    16.9\n",
       "79    18.0\n",
       "80    13.0\n",
       "81    13.8\n",
       "82    12.5\n",
       "83    13.0\n",
       "84    11.5\n",
       "85     9.5\n",
       "86    13.0\n",
       "87    11.8\n",
       "88     6.0\n",
       "89     4.8\n",
       "Name: Price, Length: 90, dtype: float64"
      ]
     },
     "execution_count": 160,
     "metadata": {},
     "output_type": "execute_result"
    }
   ],
   "source": [
    "y"
   ]
  },
  {
   "cell_type": "code",
   "execution_count": 161,
   "metadata": {},
   "outputs": [],
   "source": [
    "from sklearn.model_selection import train_test_split\n",
    "from sklearn.preprocessing import StandardScaler\n",
    "from sklearn.linear_model import LinearRegression"
   ]
  },
  {
   "cell_type": "code",
   "execution_count": 162,
   "metadata": {},
   "outputs": [],
   "source": [
    "#Getting ready for Linear regression model. splitting the data into train and test\n",
    "X_train, X_test, y_train, y_test= train_test_split(X,y, test_size = 0.2, random_state=0)"
   ]
  },
  {
   "cell_type": "code",
   "execution_count": 163,
   "metadata": {},
   "outputs": [
    {
     "data": {
      "text/plain": [
       "504"
      ]
     },
     "execution_count": 163,
     "metadata": {},
     "output_type": "execute_result"
    }
   ],
   "source": [
    "X_train.size"
   ]
  },
  {
   "cell_type": "code",
   "execution_count": 164,
   "metadata": {},
   "outputs": [
    {
     "data": {
      "text/plain": [
       "126"
      ]
     },
     "execution_count": 164,
     "metadata": {},
     "output_type": "execute_result"
    }
   ],
   "source": [
    "X_test.size"
   ]
  },
  {
   "cell_type": "code",
   "execution_count": 165,
   "metadata": {},
   "outputs": [],
   "source": [
    "#Since the data wasnt scaled here is how we scale it. Lets scale the data\n",
    "\n",
    "scaler = StandardScaler()"
   ]
  },
  {
   "cell_type": "code",
   "execution_count": null,
   "metadata": {},
   "outputs": [],
   "source": []
  },
  {
   "cell_type": "code",
   "execution_count": 166,
   "metadata": {},
   "outputs": [],
   "source": [
    "#Fitting train and test data to be scaled.\n",
    "\n",
    "X_train = scaler.fit_transform(X_train)\n",
    "X_test = scaler.transform(X_test)"
   ]
  },
  {
   "cell_type": "code",
   "execution_count": 167,
   "metadata": {},
   "outputs": [
    {
     "data": {
      "text/plain": [
       "array([[ 0.        , -1.16316   , -0.15310299, -0.091936  , -0.68511879,\n",
       "        -0.68511879,  1.33012434],\n",
       "       [ 0.        ,  0.05057217,  0.09742918,  0.06414229, -0.68511879,\n",
       "         1.4596009 , -0.75180941],\n",
       "       [ 0.        ,  1.26430434,  2.10168656,  1.22636813,  1.4596009 ,\n",
       "        -0.68511879, -0.75180941],\n",
       "       [ 0.        ,  1.26430434, -0.90469951, -0.88347589,  1.4596009 ,\n",
       "        -0.68511879, -0.75180941],\n",
       "       [ 0.        , -1.16316   , -0.65416734, -1.05070263, -0.68511879,\n",
       "        -0.68511879,  1.33012434],\n",
       "       [ 0.        ,  0.05057217,  0.8490257 ,  0.07529074, -0.68511879,\n",
       "         1.4596009 , -0.75180941],\n",
       "       [ 0.        , -1.16316   , -0.15310299, -0.01947108, -0.68511879,\n",
       "        -0.68511879,  1.33012434],\n",
       "       [ 0.        ,  0.05057217, -0.40363517, -1.20399381, -0.68511879,\n",
       "         1.4596009 , -0.75180941],\n",
       "       [ 0.        , -1.16316   ,  0.34796135, -0.47098327, -0.68511879,\n",
       "        -0.68511879,  1.33012434],\n",
       "       [ 0.        , -1.16316   , -0.65416734, -0.12259423, -0.68511879,\n",
       "        -0.68511879,  1.33012434],\n",
       "       [ 0.        , -1.16316   , -0.40363517,  0.19513657, -0.68511879,\n",
       "        -0.68511879,  1.33012434],\n",
       "       [ 0.        ,  1.26430434, -0.90469951, -1.05348974,  1.4596009 ,\n",
       "        -0.68511879, -0.75180941],\n",
       "       [ 0.        , -1.16316   , -0.40363517, -0.886263  , -0.68511879,\n",
       "        -0.68511879,  1.33012434],\n",
       "       [ 0.        , -1.16316   ,  0.59849352, -0.32047921, -0.68511879,\n",
       "        -0.68511879,  1.33012434],\n",
       "       [ 0.        ,  1.26430434,  2.10168656,  1.92872043,  1.4596009 ,\n",
       "        -0.68511879, -0.75180941],\n",
       "       [ 0.        ,  1.26430434,  0.09742918,  0.24251748,  1.4596009 ,\n",
       "        -0.68511879, -0.75180941],\n",
       "       [ 0.        ,  0.05057217, -0.15310299,  0.09480053, -0.68511879,\n",
       "         1.4596009 , -0.75180941],\n",
       "       [ 0.        ,  0.05057217, -0.65416734, -0.15882669, -0.68511879,\n",
       "         1.4596009 , -0.75180941],\n",
       "       [ 0.        , -1.16316   , -0.40363517, -0.42360236, -0.68511879,\n",
       "        -0.68511879,  1.33012434],\n",
       "       [ 0.        ,  0.05057217,  1.85115439,  1.69181588, -0.68511879,\n",
       "         1.4596009 , -0.75180941],\n",
       "       [ 0.        ,  0.05057217, -0.90469951, -1.28482007, -0.68511879,\n",
       "         1.4596009 , -0.75180941],\n",
       "       [ 0.        ,  1.26430434, -0.90469951, -1.05348974,  1.4596009 ,\n",
       "        -0.68511879, -0.75180941],\n",
       "       [ 0.        ,  1.26430434, -1.15523169, -0.17554937,  1.4596009 ,\n",
       "        -0.68511879, -0.75180941],\n",
       "       [ 0.        ,  1.26430434,  0.59849352,  0.23415614,  1.4596009 ,\n",
       "        -0.68511879, -0.75180941],\n",
       "       [ 0.        ,  0.05057217, -0.90469951, -0.42638947, -0.68511879,\n",
       "         1.4596009 , -0.75180941],\n",
       "       [ 0.        ,  0.05057217, -0.90469951, -1.58861531, -0.68511879,\n",
       "         1.4596009 , -0.75180941],\n",
       "       [ 0.        ,  1.26430434, -1.15523169, -1.04791552,  1.4596009 ,\n",
       "        -0.68511879, -0.75180941],\n",
       "       [ 0.        , -1.16316   ,  0.34796135,  0.1115232 , -0.68511879,\n",
       "        -0.68511879,  1.33012434],\n",
       "       [ 0.        , -1.16316   , -0.65416734, -0.67165536, -0.68511879,\n",
       "        -0.68511879,  1.33012434],\n",
       "       [ 0.        ,  1.26430434, -0.65416734, -1.22629071,  1.4596009 ,\n",
       "        -0.68511879, -0.75180941],\n",
       "       [ 0.        ,  0.05057217,  0.8490257 ,  0.00561293, -0.68511879,\n",
       "         1.4596009 , -0.75180941],\n",
       "       [ 0.        ,  1.26430434,  1.09955787,  2.00675957,  1.4596009 ,\n",
       "        -0.68511879, -0.75180941],\n",
       "       [ 0.        ,  1.26430434, -0.65416734, -0.30375653,  1.4596009 ,\n",
       "        -0.68511879, -0.75180941],\n",
       "       [ 0.        ,  0.05057217, -1.15523169, -1.58861531, -0.68511879,\n",
       "         1.4596009 , -0.75180941],\n",
       "       [ 0.        ,  1.26430434,  0.59849352,  1.29047171,  1.4596009 ,\n",
       "        -0.68511879, -0.75180941],\n",
       "       [ 0.        ,  0.05057217,  1.60062222,  2.16283786, -0.68511879,\n",
       "         1.4596009 , -0.75180941],\n",
       "       [ 0.        ,  1.26430434, -0.40363517, -0.3427761 ,  1.4596009 ,\n",
       "        -0.68511879, -0.75180941],\n",
       "       [ 0.        ,  0.05057217, -0.40363517, -0.24522717, -0.68511879,\n",
       "         1.4596009 , -0.75180941],\n",
       "       [ 0.        , -1.16316   , -1.40576386, -1.29875563, -0.68511879,\n",
       "        -0.68511879,  1.33012434],\n",
       "       [ 0.        ,  0.05057217, -0.65416734, -1.17054846, -0.68511879,\n",
       "         1.4596009 , -0.75180941],\n",
       "       [ 0.        , -1.16316   , -0.40363517, -0.54344819, -0.68511879,\n",
       "        -0.68511879,  1.33012434],\n",
       "       [ 0.        ,  1.26430434, -0.90469951, -1.19284536,  1.4596009 ,\n",
       "        -0.68511879, -0.75180941],\n",
       "       [ 0.        ,  0.05057217, -0.40363517,  0.48220914, -0.68511879,\n",
       "         1.4596009 , -0.75180941],\n",
       "       [ 0.        , -1.16316   , -0.65416734, -0.20063338, -0.68511879,\n",
       "        -0.68511879,  1.33012434],\n",
       "       [ 0.        ,  1.26430434, -0.65416734, -0.2285045 ,  1.4596009 ,\n",
       "        -0.68511879, -0.75180941],\n",
       "       [ 0.        , -1.16316   ,  1.09955787,  0.87797909, -0.68511879,\n",
       "        -0.68511879,  1.33012434],\n",
       "       [ 0.        ,  1.26430434,  0.34796135,  0.2703886 ,  1.4596009 ,\n",
       "        -0.68511879, -0.75180941],\n",
       "       [ 0.        ,  1.26430434,  1.85115439,  2.10152139,  1.4596009 ,\n",
       "        -0.68511879, -0.75180941],\n",
       "       [ 0.        ,  0.05057217,  1.09955787,  2.47220733, -0.68511879,\n",
       "         1.4596009 , -0.75180941],\n",
       "       [ 0.        , -1.16316   ,  0.34796135,  1.0173347 , -0.68511879,\n",
       "        -0.68511879,  1.33012434],\n",
       "       [ 0.        , -1.16316   ,  1.09955787,  2.05971471, -0.68511879,\n",
       "        -0.68511879,  1.33012434],\n",
       "       [ 0.        , -1.16316   , -1.15523169, -0.64657135, -0.68511879,\n",
       "        -0.68511879,  1.33012434],\n",
       "       [ 0.        ,  1.26430434,  1.09955787,  0.41531844,  1.4596009 ,\n",
       "        -0.68511879, -0.75180941],\n",
       "       [ 0.        , -1.16316   ,  0.09742918,  0.7219008 , -0.68511879,\n",
       "        -0.68511879,  1.33012434],\n",
       "       [ 0.        , -1.16316   , -0.65416734, -0.51557707, -0.68511879,\n",
       "        -0.68511879,  1.33012434],\n",
       "       [ 0.        ,  1.26430434,  1.09955787,  1.75591947,  1.4596009 ,\n",
       "        -0.68511879, -0.75180941],\n",
       "       [ 0.        ,  0.05057217, -0.90469951, -1.14267734, -0.68511879,\n",
       "         1.4596009 , -0.75180941],\n",
       "       [ 0.        ,  0.05057217, -0.40363517,  0.18398812, -0.68511879,\n",
       "         1.4596009 , -0.75180941],\n",
       "       [ 0.        ,  0.05057217, -0.15310299, -0.37622145, -0.68511879,\n",
       "         1.4596009 , -0.75180941],\n",
       "       [ 0.        , -1.16316   , -0.40363517, -0.73854605, -0.68511879,\n",
       "        -0.68511879,  1.33012434],\n",
       "       [ 0.        ,  0.05057217,  1.35009004,  1.60262829, -0.68511879,\n",
       "         1.4596009 , -0.75180941],\n",
       "       [ 0.        ,  1.26430434, -0.65416734, -0.29818231,  1.4596009 ,\n",
       "        -0.68511879, -0.75180941],\n",
       "       [ 0.        , -1.16316   , -1.15523169, -0.54902242, -0.68511879,\n",
       "        -0.68511879,  1.33012434],\n",
       "       [ 0.        ,  0.05057217,  3.10381525,  0.76928171, -0.68511879,\n",
       "         1.4596009 , -0.75180941],\n",
       "       [ 0.        ,  1.26430434,  1.85115439,  0.80551417,  1.4596009 ,\n",
       "        -0.68511879, -0.75180941],\n",
       "       [ 0.        , -1.16316   , -0.40363517,  0.20349791, -0.68511879,\n",
       "        -0.68511879,  1.33012434],\n",
       "       [ 0.        ,  1.26430434, -0.40363517, -0.7273976 ,  1.4596009 ,\n",
       "        -0.68511879, -0.75180941],\n",
       "       [ 0.        , -1.16316   , -0.15310299,  0.88912754, -0.68511879,\n",
       "        -0.68511879,  1.33012434],\n",
       "       [ 0.        , -1.16316   , -1.15523169, -0.67722958, -0.68511879,\n",
       "        -0.68511879,  1.33012434],\n",
       "       [ 0.        , -1.16316   , -0.65416734, -0.74412028, -0.68511879,\n",
       "        -0.68511879,  1.33012434],\n",
       "       [ 0.        ,  0.05057217,  2.10168656,  0.6996039 , -0.68511879,\n",
       "         1.4596009 , -0.75180941],\n",
       "       [ 0.        ,  0.05057217, -0.65416734, -0.96708926, -0.68511879,\n",
       "         1.4596009 , -0.75180941]])"
      ]
     },
     "execution_count": 167,
     "metadata": {},
     "output_type": "execute_result"
    }
   ],
   "source": [
    "X_train"
   ]
  },
  {
   "cell_type": "code",
   "execution_count": 168,
   "metadata": {},
   "outputs": [],
   "source": [
    "#X_test"
   ]
  },
  {
   "cell_type": "code",
   "execution_count": 169,
   "metadata": {},
   "outputs": [],
   "source": [
    "#Applying Multiple regression\n",
    "\n",
    "regressor = LinearRegression()"
   ]
  },
  {
   "cell_type": "code",
   "execution_count": 170,
   "metadata": {},
   "outputs": [
    {
     "data": {
      "text/plain": [
       "LinearRegression(copy_X=True, fit_intercept=True, n_jobs=None,\n",
       "         normalize=False)"
      ]
     },
     "execution_count": 170,
     "metadata": {},
     "output_type": "execute_result"
    }
   ],
   "source": [
    "#Training the algorithm and fitting the data into linear Regression Model.\n",
    "\n",
    "regressor.fit(X_train, y_train)"
   ]
  },
  {
   "cell_type": "code",
   "execution_count": 171,
   "metadata": {},
   "outputs": [
    {
     "name": "stdout",
     "output_type": "stream",
     "text": [
      "13.629166666666666\n"
     ]
    }
   ],
   "source": [
    "print(regressor.intercept_)"
   ]
  },
  {
   "cell_type": "code",
   "execution_count": 172,
   "metadata": {},
   "outputs": [
    {
     "name": "stdout",
     "output_type": "stream",
     "text": [
      "[ 0.         -0.34303197 -3.23373008 -1.84944845 -0.43998034  0.27380766\n",
      "  0.16130803]\n"
     ]
    }
   ],
   "source": [
    "print(regressor.coef_)"
   ]
  },
  {
   "cell_type": "code",
   "execution_count": 173,
   "metadata": {},
   "outputs": [
    {
     "data": {
      "text/plain": [
       "array([18.08828616, 14.88035618, 18.77602685, 20.14803392, 16.9452516 ,\n",
       "       12.39109463, 19.25628456, 19.0646856 , 16.5956154 ,  7.65135739,\n",
       "       15.89581643,  2.82007337, 13.66944052, 17.07411711, 15.75148706,\n",
       "       10.89232251,  3.82006976, 17.5079902 ])"
      ]
     },
     "execution_count": 173,
     "metadata": {},
     "output_type": "execute_result"
    }
   ],
   "source": [
    "#Predicting the 'Price' atribute.\n",
    "\n",
    "predictions = regressor.predict(X_test)\n",
    "predictions"
   ]
  },
  {
   "cell_type": "code",
   "execution_count": 174,
   "metadata": {},
   "outputs": [
    {
     "data": {
      "text/plain": [
       "2     18.9\n",
       "13    16.0\n",
       "53    21.0\n",
       "41    19.5\n",
       "66    21.0\n",
       "30    12.0\n",
       "45    17.5\n",
       "43    17.4\n",
       "78    16.9\n",
       "89     4.8\n",
       "7     18.0\n",
       "26     5.2\n",
       "33    12.5\n",
       "63    15.7\n",
       "8     13.6\n",
       "16     8.0\n",
       "24     2.0\n",
       "56    16.0\n",
       "Name: Price, dtype: float64"
      ]
     },
     "execution_count": 174,
     "metadata": {},
     "output_type": "execute_result"
    }
   ],
   "source": [
    "#The real Price values.\n",
    "\n",
    "y_test"
   ]
  },
  {
   "cell_type": "code",
   "execution_count": 175,
   "metadata": {},
   "outputs": [],
   "source": [
    "from sklearn.metrics import r2_score"
   ]
  },
  {
   "cell_type": "code",
   "execution_count": 176,
   "metadata": {},
   "outputs": [
    {
     "data": {
      "text/html": [
       "<div>\n",
       "<style scoped>\n",
       "    .dataframe tbody tr th:only-of-type {\n",
       "        vertical-align: middle;\n",
       "    }\n",
       "\n",
       "    .dataframe tbody tr th {\n",
       "        vertical-align: top;\n",
       "    }\n",
       "\n",
       "    .dataframe thead th {\n",
       "        text-align: right;\n",
       "    }\n",
       "</style>\n",
       "<table border=\"1\" class=\"dataframe\">\n",
       "  <thead>\n",
       "    <tr style=\"text-align: right;\">\n",
       "      <th></th>\n",
       "      <th>Actual</th>\n",
       "      <th>Predicted</th>\n",
       "    </tr>\n",
       "  </thead>\n",
       "  <tbody>\n",
       "    <tr>\n",
       "      <th>2</th>\n",
       "      <td>18.9</td>\n",
       "      <td>18.088286</td>\n",
       "    </tr>\n",
       "    <tr>\n",
       "      <th>13</th>\n",
       "      <td>16.0</td>\n",
       "      <td>14.880356</td>\n",
       "    </tr>\n",
       "    <tr>\n",
       "      <th>53</th>\n",
       "      <td>21.0</td>\n",
       "      <td>18.776027</td>\n",
       "    </tr>\n",
       "    <tr>\n",
       "      <th>41</th>\n",
       "      <td>19.5</td>\n",
       "      <td>20.148034</td>\n",
       "    </tr>\n",
       "    <tr>\n",
       "      <th>66</th>\n",
       "      <td>21.0</td>\n",
       "      <td>16.945252</td>\n",
       "    </tr>\n",
       "    <tr>\n",
       "      <th>30</th>\n",
       "      <td>12.0</td>\n",
       "      <td>12.391095</td>\n",
       "    </tr>\n",
       "    <tr>\n",
       "      <th>45</th>\n",
       "      <td>17.5</td>\n",
       "      <td>19.256285</td>\n",
       "    </tr>\n",
       "    <tr>\n",
       "      <th>43</th>\n",
       "      <td>17.4</td>\n",
       "      <td>19.064686</td>\n",
       "    </tr>\n",
       "    <tr>\n",
       "      <th>78</th>\n",
       "      <td>16.9</td>\n",
       "      <td>16.595615</td>\n",
       "    </tr>\n",
       "    <tr>\n",
       "      <th>89</th>\n",
       "      <td>4.8</td>\n",
       "      <td>7.651357</td>\n",
       "    </tr>\n",
       "    <tr>\n",
       "      <th>7</th>\n",
       "      <td>18.0</td>\n",
       "      <td>15.895816</td>\n",
       "    </tr>\n",
       "    <tr>\n",
       "      <th>26</th>\n",
       "      <td>5.2</td>\n",
       "      <td>2.820073</td>\n",
       "    </tr>\n",
       "    <tr>\n",
       "      <th>33</th>\n",
       "      <td>12.5</td>\n",
       "      <td>13.669441</td>\n",
       "    </tr>\n",
       "    <tr>\n",
       "      <th>63</th>\n",
       "      <td>15.7</td>\n",
       "      <td>17.074117</td>\n",
       "    </tr>\n",
       "    <tr>\n",
       "      <th>8</th>\n",
       "      <td>13.6</td>\n",
       "      <td>15.751487</td>\n",
       "    </tr>\n",
       "    <tr>\n",
       "      <th>16</th>\n",
       "      <td>8.0</td>\n",
       "      <td>10.892323</td>\n",
       "    </tr>\n",
       "    <tr>\n",
       "      <th>24</th>\n",
       "      <td>2.0</td>\n",
       "      <td>3.820070</td>\n",
       "    </tr>\n",
       "    <tr>\n",
       "      <th>56</th>\n",
       "      <td>16.0</td>\n",
       "      <td>17.507990</td>\n",
       "    </tr>\n",
       "  </tbody>\n",
       "</table>\n",
       "</div>"
      ],
      "text/plain": [
       "    Actual  Predicted\n",
       "2     18.9  18.088286\n",
       "13    16.0  14.880356\n",
       "53    21.0  18.776027\n",
       "41    19.5  20.148034\n",
       "66    21.0  16.945252\n",
       "30    12.0  12.391095\n",
       "45    17.5  19.256285\n",
       "43    17.4  19.064686\n",
       "78    16.9  16.595615\n",
       "89     4.8   7.651357\n",
       "7     18.0  15.895816\n",
       "26     5.2   2.820073\n",
       "33    12.5  13.669441\n",
       "63    15.7  17.074117\n",
       "8     13.6  15.751487\n",
       "16     8.0  10.892323\n",
       "24     2.0   3.820070\n",
       "56    16.0  17.507990"
      ]
     },
     "execution_count": 176,
     "metadata": {},
     "output_type": "execute_result"
    }
   ],
   "source": [
    "#Here is a nice format to see what is the real data and what is the predicted value looks like\n",
    "\n",
    "df = pd.DataFrame({'Actual': y_test , 'Predicted': predictions})\n",
    "df"
   ]
  },
  {
   "cell_type": "code",
   "execution_count": 177,
   "metadata": {},
   "outputs": [
    {
     "data": {
      "text/plain": [
       "0.8749853622053401"
      ]
     },
     "execution_count": 177,
     "metadata": {},
     "output_type": "execute_result"
    }
   ],
   "source": [
    "#r2 score to see how well our predcition model did. I am successfull %87 here with this model.\n",
    "\n",
    "r2_score(y_test, predictions)"
   ]
  },
  {
   "cell_type": "code",
   "execution_count": 178,
   "metadata": {},
   "outputs": [],
   "source": [
    "#r2_score()"
   ]
  },
  {
   "cell_type": "code",
   "execution_count": 179,
   "metadata": {},
   "outputs": [],
   "source": [
    "import statsmodels.formula.api as sm"
   ]
  },
  {
   "cell_type": "code",
   "execution_count": 180,
   "metadata": {},
   "outputs": [],
   "source": [
    "#Statistics result through 'Ordinary Least Squares'. As it is shown below p-values are stabil and looks good so there is not much to do \n",
    "#with this model to be applied.\n",
    "\n",
    "X_opt = X[:, [0,1,2,3,4,5,6]]"
   ]
  },
  {
   "cell_type": "code",
   "execution_count": 181,
   "metadata": {},
   "outputs": [
    {
     "data": {
      "text/html": [
       "<table class=\"simpletable\">\n",
       "<caption>OLS Regression Results</caption>\n",
       "<tr>\n",
       "  <th>Dep. Variable:</th>          <td>Price</td>      <th>  R-squared:         </th> <td>   0.852</td>\n",
       "</tr>\n",
       "<tr>\n",
       "  <th>Model:</th>                   <td>OLS</td>       <th>  Adj. R-squared:    </th> <td>   0.845</td>\n",
       "</tr>\n",
       "<tr>\n",
       "  <th>Method:</th>             <td>Least Squares</td>  <th>  F-statistic:       </th> <td>   122.0</td>\n",
       "</tr>\n",
       "<tr>\n",
       "  <th>Date:</th>             <td>Wed, 05 Jun 2019</td> <th>  Prob (F-statistic):</th> <td>2.22e-34</td>\n",
       "</tr>\n",
       "<tr>\n",
       "  <th>Time:</th>                 <td>01:35:03</td>     <th>  Log-Likelihood:    </th> <td> -195.56</td>\n",
       "</tr>\n",
       "<tr>\n",
       "  <th>No. Observations:</th>      <td>    90</td>      <th>  AIC:               </th> <td>   401.1</td>\n",
       "</tr>\n",
       "<tr>\n",
       "  <th>Df Residuals:</th>          <td>    85</td>      <th>  BIC:               </th> <td>   413.6</td>\n",
       "</tr>\n",
       "<tr>\n",
       "  <th>Df Model:</th>              <td>     4</td>      <th>                     </th>     <td> </td>   \n",
       "</tr>\n",
       "<tr>\n",
       "  <th>Covariance Type:</th>      <td>nonrobust</td>    <th>                     </th>     <td> </td>   \n",
       "</tr>\n",
       "</table>\n",
       "<table class=\"simpletable\">\n",
       "<tr>\n",
       "    <td></td>       <th>coef</th>     <th>std err</th>      <th>t</th>      <th>P>|t|</th>  <th>[0.025</th>    <th>0.975]</th>  \n",
       "</tr>\n",
       "<tr>\n",
       "  <th>const</th> <td>    8.5297</td> <td>    0.210</td> <td>   40.624</td> <td> 0.000</td> <td>    8.112</td> <td>    8.947</td>\n",
       "</tr>\n",
       "<tr>\n",
       "  <th>x1</th>    <td>    4.9812</td> <td>    0.154</td> <td>   32.363</td> <td> 0.000</td> <td>    4.675</td> <td>    5.287</td>\n",
       "</tr>\n",
       "<tr>\n",
       "  <th>x2</th>    <td>   -0.8172</td> <td>    0.108</td> <td>   -7.567</td> <td> 0.000</td> <td>   -1.032</td> <td>   -0.602</td>\n",
       "</tr>\n",
       "<tr>\n",
       "  <th>x3</th>    <td>   -0.0520</td> <td>    0.012</td> <td>   -4.490</td> <td> 0.000</td> <td>   -0.075</td> <td>   -0.029</td>\n",
       "</tr>\n",
       "<tr>\n",
       "  <th>x4</th>    <td>   -3.4399</td> <td>    0.219</td> <td>  -15.708</td> <td> 0.000</td> <td>   -3.875</td> <td>   -3.005</td>\n",
       "</tr>\n",
       "<tr>\n",
       "  <th>x5</th>    <td>    3.3314</td> <td>    0.339</td> <td>    9.840</td> <td> 0.000</td> <td>    2.658</td> <td>    4.004</td>\n",
       "</tr>\n",
       "<tr>\n",
       "  <th>x6</th>    <td>    8.6382</td> <td>    0.335</td> <td>   25.796</td> <td> 0.000</td> <td>    7.972</td> <td>    9.304</td>\n",
       "</tr>\n",
       "</table>\n",
       "<table class=\"simpletable\">\n",
       "<tr>\n",
       "  <th>Omnibus:</th>       <td> 6.631</td> <th>  Durbin-Watson:     </th> <td>   1.472</td>\n",
       "</tr>\n",
       "<tr>\n",
       "  <th>Prob(Omnibus):</th> <td> 0.036</td> <th>  Jarque-Bera (JB):  </th> <td>   6.011</td>\n",
       "</tr>\n",
       "<tr>\n",
       "  <th>Skew:</th>          <td> 0.591</td> <th>  Prob(JB):          </th> <td>  0.0495</td>\n",
       "</tr>\n",
       "<tr>\n",
       "  <th>Kurtosis:</th>      <td> 3.451</td> <th>  Cond. No.          </th> <td>1.63e+18</td>\n",
       "</tr>\n",
       "</table><br/><br/>Warnings:<br/>[1] Standard Errors assume that the covariance matrix of the errors is correctly specified.<br/>[2] The smallest eigenvalue is 1.66e-31. This might indicate that there are<br/>strong multicollinearity problems or that the design matrix is singular."
      ],
      "text/plain": [
       "<class 'statsmodels.iolib.summary.Summary'>\n",
       "\"\"\"\n",
       "                            OLS Regression Results                            \n",
       "==============================================================================\n",
       "Dep. Variable:                  Price   R-squared:                       0.852\n",
       "Model:                            OLS   Adj. R-squared:                  0.845\n",
       "Method:                 Least Squares   F-statistic:                     122.0\n",
       "Date:                Wed, 05 Jun 2019   Prob (F-statistic):           2.22e-34\n",
       "Time:                        01:35:03   Log-Likelihood:                -195.56\n",
       "No. Observations:                  90   AIC:                             401.1\n",
       "Df Residuals:                      85   BIC:                             413.6\n",
       "Df Model:                           4                                         \n",
       "Covariance Type:            nonrobust                                         \n",
       "==============================================================================\n",
       "                 coef    std err          t      P>|t|      [0.025      0.975]\n",
       "------------------------------------------------------------------------------\n",
       "const          8.5297      0.210     40.624      0.000       8.112       8.947\n",
       "x1             4.9812      0.154     32.363      0.000       4.675       5.287\n",
       "x2            -0.8172      0.108     -7.567      0.000      -1.032      -0.602\n",
       "x3            -0.0520      0.012     -4.490      0.000      -0.075      -0.029\n",
       "x4            -3.4399      0.219    -15.708      0.000      -3.875      -3.005\n",
       "x5             3.3314      0.339      9.840      0.000       2.658       4.004\n",
       "x6             8.6382      0.335     25.796      0.000       7.972       9.304\n",
       "==============================================================================\n",
       "Omnibus:                        6.631   Durbin-Watson:                   1.472\n",
       "Prob(Omnibus):                  0.036   Jarque-Bera (JB):                6.011\n",
       "Skew:                           0.591   Prob(JB):                       0.0495\n",
       "Kurtosis:                       3.451   Cond. No.                     1.63e+18\n",
       "==============================================================================\n",
       "\n",
       "Warnings:\n",
       "[1] Standard Errors assume that the covariance matrix of the errors is correctly specified.\n",
       "[2] The smallest eigenvalue is 1.66e-31. This might indicate that there are\n",
       "strong multicollinearity problems or that the design matrix is singular.\n",
       "\"\"\""
      ]
     },
     "execution_count": 181,
     "metadata": {},
     "output_type": "execute_result"
    }
   ],
   "source": [
    "regressor_OLS=sm.OLS(endog =y, exog=X_opt).fit()\n",
    "regressor_OLS.summary()"
   ]
  },
  {
   "cell_type": "markdown",
   "metadata": {},
   "source": [
    "## Observation: \n",
    "\n",
    "### -Data is explored and problem is defined.\n",
    "\n",
    "#### -Multiple Linear Regression model is selected to create a prediction model to predict Price of a car based on independent variables.\n",
    "\n",
    "#### -Solution is implemented.\n",
    "\n",
    "#### -Result for this model is analysed and As a result; prediction model is successful for about %87.\n",
    "\n",
    "\n",
    "#### -There can be other models to be used such as \n",
    "#### -Lasso and other regression models and we might get a better result as a matter of fact."
   ]
  },
  {
   "cell_type": "code",
   "execution_count": null,
   "metadata": {},
   "outputs": [],
   "source": []
  }
 ],
 "metadata": {
  "kernelspec": {
   "display_name": "Python 3",
   "language": "python",
   "name": "python3"
  },
  "language_info": {
   "codemirror_mode": {
    "name": "ipython",
    "version": 3
   },
   "file_extension": ".py",
   "mimetype": "text/x-python",
   "name": "python",
   "nbconvert_exporter": "python",
   "pygments_lexer": "ipython3",
   "version": "3.7.2"
  }
 },
 "nbformat": 4,
 "nbformat_minor": 2
}
